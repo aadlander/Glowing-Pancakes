{
 "cells": [
  {
   "cell_type": "code",
   "execution_count": 1,
   "metadata": {
    "collapsed": true
   },
   "outputs": [],
   "source": [
    "# create a Jupyter image that will be our display surface\n",
    "# format can be 'jpeg' or 'png'; specify width and height to set viewer size\n",
    "# PNG will be a little clearer, especially with overlaid graphics, but\n",
    "# JPEG is faster to update\n",
    "import ipywidgets as widgets\n",
    "from glowing_waffles.differential_photometry import catalog_search, in_frame\n",
    "from glowing_waffles.differential_photometry  import filter_transform\n",
    "from glowing_waffles.io import parse_aij_table\n",
    "from astropy.table import Table, Column\n",
    "from astropy.coordinates import SkyCoord\n",
    "import numpy as np"
   ]
  },
  {
   "cell_type": "code",
   "execution_count": 2,
   "metadata": {
    "collapsed": true
   },
   "outputs": [],
   "source": [
    "jup_img = widgets.Image(format='jpeg', width=500, height=500)"
   ]
  },
  {
   "cell_type": "code",
   "execution_count": 3,
   "metadata": {
    "collapsed": true
   },
   "outputs": [],
   "source": [
    "# Boilerplate to create a Ginga viewer connected to this widget\n",
    "# this could be simplified, or hidden behind a class or convenience \n",
    "# method\n",
    "# NOTE: you don't have to specify a log file--and if you are not interested\n",
    "# in the log just specify null=True for a null logger\n",
    "# level=10 will give you the most debugging information\n",
    "from ginga.misc.log import get_logger\n",
    "logger = get_logger(\"my viewer\", log_stderr=False, log_file='/tmp/ginga.log', level=40)\n",
    "\n",
    "from ginga.web.jupyterw.ImageViewJpw import EnhancedCanvasView\n",
    "v1 = EnhancedCanvasView(logger=logger)\n",
    "# set our linkage between the jupyter widget at ginga\n",
    "v1.set_widget(jup_img)\n",
    "\n",
    "# enable all possible keyboard and pointer operations\n",
    "bd = v1.get_bindings()\n",
    "bd.enable_all(True)"
   ]
  },
  {
   "cell_type": "code",
   "execution_count": 4,
   "metadata": {
    "collapsed": true
   },
   "outputs": [],
   "source": [
    "coordinates = widgets.HTML('<h3>coordinates show up here</h3>')\n",
    "\n",
    "# callback to display position in RA/DEC deg\n",
    "def mouse_move(viewer, button, data_x, data_y, w):\n",
    "    image = viewer.get_image()\n",
    "    if image is not None:\n",
    "        ra, dec = image.pixtoradec(data_x, data_y)\n",
    "        w.value = \"RA: %f, Dec: %f\" % (ra, dec)\n",
    "\n",
    "v1.add_callback('motion', mouse_move, coordinates)\n"
   ]
  },
  {
   "cell_type": "code",
   "execution_count": 5,
   "metadata": {},
   "outputs": [
    {
     "name": "stderr",
     "output_type": "stream",
     "text": [
      "WARNING: VerifyWarning: Keyword name 'trim_image' is greater than 8 characters or contains characters not allowed by the FITS standard; a HIERARCH card will be created. [astropy.io.fits.card]\n",
      "WARNING: VerifyWarning: Keyword name 'subtract_bias' is greater than 8 characters or contains characters not allowed by the FITS standard; a HIERARCH card will be created. [astropy.io.fits.card]\n",
      "WARNING: VerifyWarning: Keyword name 'subtract_dark' is greater than 8 characters or contains characters not allowed by the FITS standard; a HIERARCH card will be created. [astropy.io.fits.card]\n",
      "WARNING: VerifyWarning: Keyword name 'flat_correct' is greater than 8 characters or contains characters not allowed by the FITS standard; a HIERARCH card will be created. [astropy.io.fits.card]\n"
     ]
    }
   ],
   "source": [
    "v1.load_fits(\"/Users/mcraig/Development/astronomy/Glowing-Pancakes/TrES-3b-004R.fit\")\n",
    "img = v1.get_image()"
   ]
  },
  {
   "cell_type": "code",
   "execution_count": 6,
   "metadata": {},
   "outputs": [],
   "source": [
    "#Use glowing waffles to parse the measurements file\n",
    "aij_stars = parse_aij_table('tres_3_measurements_4.csv')\n",
    "\n",
    "#get the ra (which aij gives in hour angle) from the raw aij data\n",
    "aij_ra = np.array([star.ra.mean().value for star in aij_stars])\n",
    "#get the dec from the raw aij data\n",
    "aij_dec = [star.dec.mean() for star in aij_stars]\n",
    "x, y = img.wcs.wcs.all_world2pix(aij_ra, aij_dec, 0)\n",
    "aij_name = range(1, len(aij_stars) + 1)\n",
    "aij_cat = Table([\n",
    "    Column(data=aij_name, name='Name'),\n",
    "    Column(data=x, name='x'),\n",
    "    Column(data=y, name='y')\n",
    "])"
   ]
  },
  {
   "cell_type": "code",
   "execution_count": 7,
   "metadata": {
    "collapsed": true
   },
   "outputs": [],
   "source": [
    "apass_cat, x, y = catalog_search(img.wcs.wcs, img.shape, 'II/336/apass9', radius=1, padding=0)\n",
    "apass_cat.add_column(Column(data=x, name='x'))\n",
    "apass_cat.add_column(Column(data=y, name='y'))"
   ]
  },
  {
   "cell_type": "code",
   "execution_count": 8,
   "metadata": {},
   "outputs": [],
   "source": [
    "vsx_cat, x, y = catalog_search(img.wcs.wcs, img.shape, 'B/vsx/vsx', radius=1, padding=0)\n",
    "vsx_cat.add_column(Column(data=x, name='x'))\n",
    "vsx_cat.add_column(Column(data=y, name='y'))\n",
    "\n",
    "cats = {\n",
    "    'VSX': vsx_cat,\n",
    "    'APASS': apass_cat,\n",
    "    'AIJ Index': aij_cat\n",
    "}"
   ]
  },
  {
   "cell_type": "code",
   "execution_count": 9,
   "metadata": {},
   "outputs": [],
   "source": [
    "catalog = widgets.SelectMultiple(description='Catalog', options=['None', 'VSX', 'APASS', 'AIJ Index'])\n",
    "                           #options=[('None', None), \n",
    "                           #         ('VSX', 'vsx_cat'), \n",
    "                           #         ('APASS', apass_cat),\n",
    "                           #         ('AIJ Index', aij_cat)])"
   ]
  },
  {
   "cell_type": "code",
   "execution_count": 10,
   "metadata": {
    "collapsed": true
   },
   "outputs": [],
   "source": [
    "# add a canvas to the image and set the draw type\n",
    "canvas = v1.add_canvas()"
   ]
  },
  {
   "cell_type": "code",
   "execution_count": 11,
   "metadata": {},
   "outputs": [
    {
     "data": {
      "text/plain": [
       "()"
      ]
     },
     "execution_count": 11,
     "metadata": {},
     "output_type": "execute_result"
    }
   ],
   "source": [
    "catalog.value"
   ]
  },
  {
   "cell_type": "code",
   "execution_count": 12,
   "metadata": {
    "collapsed": true
   },
   "outputs": [],
   "source": [
    "detail = widgets.HTML('Click object for details from selected catalog')\n",
    "\n",
    "def mouse_click(viewer, button, data_x, data_y, w):\n",
    "    global catalog\n",
    "    w.value = 'shazam!'\n",
    "    img = viewer.get_image()\n",
    "    ra, dec = img.pixtoradec(data_x, data_y)\n",
    "    coord = SkyCoord(ra, dec, unit='deg')\n",
    "    w.value = '%f %f' % (ra, dec)\n",
    "    #w.value = catalog.value[0]\n",
    "    if catalog.value[0] == 'None':\n",
    "        w.value = ''\n",
    "        return\n",
    "    cat = cats[catalog.value[0]]\n",
    "    cat_coords = SkyCoord(cat['RAJ2000'], cat['DEJ2000'])\n",
    "    idx, d2d, d3d = coord.match_to_catalog_sky(cat_coords)\n",
    "    content = []\n",
    "    for c in cat.colnames:\n",
    "        if not cat[c][idx]:\n",
    "            continue\n",
    "        val = '<strong>{}</strong> ({}): {}'.format(c, cat[c].unit, cat[c][idx])\n",
    "        content.append(val)\n",
    "    w.value = '<br>'.join(content)\n",
    "\n",
    "v1.add_callback('cursor-up', mouse_click, detail)"
   ]
  },
  {
   "cell_type": "code",
   "execution_count": 13,
   "metadata": {},
   "outputs": [],
   "source": [
    "# embed the viewer here\n",
    "\n",
    "viewer = widgets.VBox([coordinates, catalog, detail])\n",
    "jup_img.layout.width = jup_img.width\n",
    "jup_img.layout.height = jup_img.height\n",
    "img_box = widgets.VBox([jup_img])\n",
    "img_box.layout.width = jup_img.width\n",
    "img_box.layout.height = jup_img.height\n",
    "hb = widgets.HBox([img_box, viewer])"
   ]
  },
  {
   "cell_type": "code",
   "execution_count": 14,
   "metadata": {},
   "outputs": [],
   "source": [
    "def overlay_catalog(change):\n",
    "    catalogs = change['new']\n",
    "    img = v1.get_image()\n",
    "    canvas.delete_all_objects()\n",
    "    colors = ['yellow', 'cyan', 'red']\n",
    "    offsets = [0, -20, -40]\n",
    "    for new_catalog, color, offset in zip(catalogs, colors, offsets):\n",
    "        if new_catalog is 'None':\n",
    "            return\n",
    "        else:\n",
    "            cat = cats[new_catalog]\n",
    "        # Draw circles around all objects\n",
    "        Circle = canvas.get_draw_class('circle')\n",
    "        Text = canvas.get_draw_class('text')\n",
    "        try:\n",
    "            names = cat['Name']\n",
    "        except KeyError:\n",
    "            names = cat['recno']\n",
    "        for an_x, an_y, name in zip(cat['x'], cat['y'], names):\n",
    "            canvas.add(Circle(an_x, an_y, radius=10, color=color))\n",
    "            canvas.add(Text(an_x + 10, an_y + 10 + offset, text=str(name), color=color))\n",
    "\n",
    "catalog.observe(overlay_catalog, names='value')"
   ]
  },
  {
   "cell_type": "code",
   "execution_count": 15,
   "metadata": {
    "scrolled": false
   },
   "outputs": [
    {
     "data": {
      "application/vnd.jupyter.widget-view+json": {
       "model_id": "c1bfce5e1d144fd3996a3cd3a7b8d94d",
       "version_major": 2,
       "version_minor": 0
      },
      "text/plain": [
       "A Jupyter Widget"
      ]
     },
     "metadata": {},
     "output_type": "display_data"
    }
   ],
   "source": [
    "hb"
   ]
  },
  {
   "cell_type": "code",
   "execution_count": 16,
   "metadata": {},
   "outputs": [
    {
     "ename": "IndexError",
     "evalue": "tuple index out of range",
     "output_type": "error",
     "traceback": [
      "\u001b[0;31m---------------------------------------------------------------------------\u001b[0m",
      "\u001b[0;31mIndexError\u001b[0m                                Traceback (most recent call last)",
      "\u001b[0;32m<ipython-input-16-9fd2851ec57a>\u001b[0m in \u001b[0;36m<module>\u001b[0;34m()\u001b[0m\n\u001b[1;32m      1\u001b[0m \u001b[0mra\u001b[0m\u001b[0;34m,\u001b[0m \u001b[0mdec\u001b[0m \u001b[0;34m=\u001b[0m \u001b[0;34m(\u001b[0m\u001b[0;36m268.029349\u001b[0m\u001b[0;34m,\u001b[0m \u001b[0;36m37.545377\u001b[0m\u001b[0;34m)\u001b[0m\u001b[0;34m\u001b[0m\u001b[0m\n\u001b[1;32m      2\u001b[0m \u001b[0mcoord\u001b[0m \u001b[0;34m=\u001b[0m \u001b[0mSkyCoord\u001b[0m\u001b[0;34m(\u001b[0m\u001b[0mra\u001b[0m\u001b[0;34m,\u001b[0m \u001b[0mdec\u001b[0m\u001b[0;34m,\u001b[0m \u001b[0munit\u001b[0m\u001b[0;34m=\u001b[0m\u001b[0;34m'deg'\u001b[0m\u001b[0;34m)\u001b[0m\u001b[0;34m\u001b[0m\u001b[0m\n\u001b[0;32m----> 3\u001b[0;31m \u001b[0mcat\u001b[0m \u001b[0;34m=\u001b[0m \u001b[0mcats\u001b[0m\u001b[0;34m[\u001b[0m\u001b[0mcatalog\u001b[0m\u001b[0;34m.\u001b[0m\u001b[0mvalue\u001b[0m\u001b[0;34m[\u001b[0m\u001b[0;36m0\u001b[0m\u001b[0;34m]\u001b[0m\u001b[0;34m]\u001b[0m\u001b[0;34m\u001b[0m\u001b[0m\n\u001b[0m\u001b[1;32m      4\u001b[0m \u001b[0mcat_coords\u001b[0m \u001b[0;34m=\u001b[0m \u001b[0mSkyCoord\u001b[0m\u001b[0;34m(\u001b[0m\u001b[0mcat\u001b[0m\u001b[0;34m[\u001b[0m\u001b[0;34m'RAJ2000'\u001b[0m\u001b[0;34m]\u001b[0m\u001b[0;34m,\u001b[0m \u001b[0mcat\u001b[0m\u001b[0;34m[\u001b[0m\u001b[0;34m'DEJ2000'\u001b[0m\u001b[0;34m]\u001b[0m\u001b[0;34m)\u001b[0m\u001b[0;34m\u001b[0m\u001b[0m\n\u001b[1;32m      5\u001b[0m \u001b[0midx\u001b[0m\u001b[0;34m,\u001b[0m \u001b[0m_\u001b[0m\u001b[0;34m,\u001b[0m \u001b[0m_\u001b[0m \u001b[0;34m=\u001b[0m \u001b[0mcoord\u001b[0m\u001b[0;34m.\u001b[0m\u001b[0mmatch_to_catalog_sky\u001b[0m\u001b[0;34m(\u001b[0m\u001b[0mcat_coords\u001b[0m\u001b[0;34m)\u001b[0m\u001b[0;34m\u001b[0m\u001b[0m\n",
      "\u001b[0;31mIndexError\u001b[0m: tuple index out of range"
     ]
    }
   ],
   "source": [
    "ra, dec = (268.029349, 37.545377)\n",
    "coord = SkyCoord(ra, dec, unit='deg')\n",
    "cat = cats[catalog.value[0]]\n",
    "cat_coords = SkyCoord(cat['RAJ2000'], cat['DEJ2000'])\n",
    "idx, _, _ = coord.match_to_catalog_sky(cat_coords)"
   ]
  },
  {
   "cell_type": "code",
   "execution_count": null,
   "metadata": {},
   "outputs": [],
   "source": [
    "ds = cat[idx]"
   ]
  },
  {
   "cell_type": "code",
   "execution_count": null,
   "metadata": {},
   "outputs": [],
   "source": [
    "str(ds)"
   ]
  },
  {
   "cell_type": "code",
   "execution_count": null,
   "metadata": {},
   "outputs": [],
   "source": [
    "\n",
    "cat, x, y = catalog_search(img.wcs.wcs, img.shape, 'B/vsx/vsx', radius=1, padding=0)"
   ]
  },
  {
   "cell_type": "code",
   "execution_count": null,
   "metadata": {},
   "outputs": [],
   "source": [
    "cat"
   ]
  },
  {
   "cell_type": "code",
   "execution_count": null,
   "metadata": {},
   "outputs": [],
   "source": [
    "x"
   ]
  },
  {
   "cell_type": "code",
   "execution_count": null,
   "metadata": {
    "collapsed": true
   },
   "outputs": [],
   "source": []
  }
 ],
 "metadata": {
  "kernelspec": {
   "display_name": "Python 3",
   "language": "python",
   "name": "python3"
  },
  "language_info": {
   "codemirror_mode": {
    "name": "ipython",
    "version": 3
   },
   "file_extension": ".py",
   "mimetype": "text/x-python",
   "name": "python",
   "nbconvert_exporter": "python",
   "pygments_lexer": "ipython3",
   "version": "3.6.3"
  }
 },
 "nbformat": 4,
 "nbformat_minor": 2
}
