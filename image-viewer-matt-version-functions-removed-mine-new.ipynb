{
 "cells": [
  {
   "cell_type": "code",
   "execution_count": null,
   "metadata": {},
   "outputs": [],
   "source": [
    "%load_ext autoreload\n",
    "%autoreload 2\n",
    "from __future__ import print_function, division\n",
    "\n",
    "import numpy as np\n",
    "#import pandas as pd\n",
    "\n",
    "import astropy.units as u\n",
    "import astropy.coordinates as apycoord\n",
    "from astropy.nddata import block_replicate\n",
    "from astropy.table import Table, Column, MaskedColumn\n",
    "from astropy.wcs import WCS\n",
    "from astropy.io import fits\n",
    "from astropy.time import Time\n",
    "\n",
    "#from astropy.stats import sigma_clip\n",
    "from astropy.modeling import models, fitting\n",
    "import scipy.stats as stats\n",
    "\n",
    "from glowing_waffles.differential_photometry import catalog_search, in_frame\n",
    "from glowing_waffles.differential_photometry  import filter_transform\n",
    "from glowing_waffles.io import parse_aij_table\n",
    "from notebook_functions import scale_and_downsample, source_ra, source_error, source_column, uniformize_source_names, \\\n",
    "    find_apass_stars, find_known_variables, plot_apass_variables, get_RA_Dec, get_color, plot_magnitudes, \\\n",
    "    color_corrections, mag_error, corrected_curveses\n",
    "#import notebook_functions\n",
    "from ccdproc import CCDData, ImageFileCollection\n",
    "\n",
    "from gatspy.periodic import LombScargleFast\n",
    "\n",
    "from scipy import optimize\n",
    "\n",
    "from glob import glob\n",
    "\n",
    "%matplotlib inline\n",
    "import matplotlib.pyplot as plt\n"
   ]
  },
  {
   "cell_type": "markdown",
   "metadata": {},
   "source": [
    "# Read image"
   ]
  },
  {
   "cell_type": "code",
   "execution_count": null,
   "metadata": {},
   "outputs": [],
   "source": [
    "ccd = CCDData.read('Tres-3b-004R.fit', unit='adu')   #Read in a single fits /image"
   ]
  },
  {
   "cell_type": "code",
   "execution_count": null,
   "metadata": {},
   "outputs": [],
   "source": [
    "apass, apass_x, apass_y, apass_in_bright, in_apass_x, in_apass_y = find_apass_stars(ccd)\n",
    "vsx, vsx_x, vsx_y, vsx_names = find_known_variables(ccd)"
   ]
  },
  {
   "cell_type": "code",
   "execution_count": null,
   "metadata": {
    "collapsed": true
   },
   "outputs": [],
   "source": [
    "disp = scale_and_downsample(ccd.data, downsample=1)"
   ]
  },
  {
   "cell_type": "code",
   "execution_count": null,
   "metadata": {},
   "outputs": [],
   "source": [
    "plot_apass_variables(ccd, disp, vsx_x, vsx_y, vsx_names, apass, in_apass_x, in_apass_y, apass_x, apass_y)"
   ]
  },
  {
   "cell_type": "code",
   "execution_count": null,
   "metadata": {},
   "outputs": [],
   "source": [
    "#Get the magnitudes of the apass stars\n",
    "apass_mags = apass_in_bright['r_mag']\n",
    "apass_ra, apass_dec = get_RA_Dec(apass_in_bright)\n",
    "apass_color, apass_color_error = get_color(apass_in_bright)\n",
    "\n",
    "\n",
    "all_apass_ra, all_apass_dec = get_RA_Dec(apass)\n",
    "all_apass_color, all_apass_color_error = get_color(apass)\n",
    "\n",
    "\n",
    "\n",
    "#Read in the raw measurements file in case the parse function doesn't work as expected\n",
    "aij_raw = Table.read('tres_3_measurements_4.csv')\n",
    "#Get the sources\n",
    "sources = uniformize_source_names(aij_raw)\n",
    " \n",
    "#Use glowing waffles to parse the measurements file\n",
    "aij_stars = parse_aij_table('tres_3_measurements_4.csv')\n",
    "\n",
    "#get the ra (which aij gives in hour angle) from the raw aij data\n",
    "aij_ra = [np.mean(aij_raw[source_ra(source)])*u.hourangle for source in sources]\n",
    "#get the dec from the raw aij data\n",
    "aij_dec = [star.dec.mean() for star in aij_stars]\n",
    "#get the julian date from parsed measurements file\n",
    "aij_jd = aij_stars[0].jd_utc_start\n",
    "\n",
    "#Calculate the aij instrumental magnitudes fromt he raw measuremnets file to compare to those from glowing waffles\n",
    "aij_mags = [-2.5*np.log10(aij_raw[source_column(source)])+2.5*np.log10(aij_raw['EXPOSURE']) for source in sources]\n",
    "\n",
    "#turn that magnitude list into an array\n",
    "aij_mags = np.array(aij_mags)\n",
    "\n",
    "#Create a list of aij coordinates using apycoord.SkyCoord function\n",
    "aij_coordinates = apycoord.SkyCoord(aij_ra, aij_dec, unit=(u.deg, u.deg))\n",
    "#create a list of well defined apass stars' coordinates using apycoord.SkyCoord function\n",
    "apass_coordinates = apycoord.SkyCoord(apass_ra, apass_dec, unit='deg')\n",
    "#create a list of all of the apass stars' coordiantes using apycoord.SkyCoord function\n",
    "apass_coordinates_for_color = apycoord.SkyCoord(all_apass_ra, all_apass_dec, unit='deg')"
   ]
  },
  {
   "cell_type": "markdown",
   "metadata": {},
   "source": [
    "# Are the stars in the image?"
   ]
  },
  {
   "cell_type": "code",
   "execution_count": null,
   "metadata": {
    "collapsed": true
   },
   "outputs": [],
   "source": [
    "#Get the wcs information of an image to determine whether star is in the image\n",
    "wcsdict = {}\n",
    "#/Users/erinaadland/documents/College Work/TrES-3\n",
    "directories = glob('/Volumes/Erin/20??-??-??/Reduced')\n",
    "for directory in directories:\n",
    "    ic = ImageFileCollection(directory)\n",
    "    for header, filename in ic.headers(object = 'tres-3b', return_fname = True):\n",
    "        wcs = WCS(header)\n",
    "        a_time = Time(wcs.wcs.dateobs, out_subfmt='date', scale='utc')\n",
    "        datename = str(a_time) + '/' + str(filename)\n",
    "        wcsdict[datename] = wcs"
   ]
  },
  {
   "cell_type": "code",
   "execution_count": null,
   "metadata": {},
   "outputs": [],
   "source": [
    "plt.plot(aij_mags[4])     #Plot one of the stars just to see what it looks like\n",
    "plt.ylabel('Instrumental Mag')\n",
    "plt.xlabel('Image')\n",
    "\n",
    "#compare different ways to get magnitudes.\n",
    "print(aij_mags[0][0], aij_stars[0].magnitude[0])\n",
    "print(-2.5*np.log10(174940.8)+2.5*np.log10(60))"
   ]
  },
  {
   "cell_type": "code",
   "execution_count": null,
   "metadata": {
    "collapsed": true,
    "scrolled": true
   },
   "outputs": [],
   "source": [
    "#find the matches of the apass stars and the aij stars. apass_index is a list where each index cooresponds to the index of\n",
    "#the aij stars and the value of that index corresponds to the index of the matchin apass star\n",
    "apass_index, d2d, d3d = apycoord.match_coordinates_sky(aij_coordinates, apass_coordinates)\n",
    "\n",
    "#create a boolean of all of the matches that have a discrepancy of less then 5 arcseconds\n",
    "good_match = d2d < 5*u.arcsecond\n",
    "\n",
    "#same matching thing but for ALL of the apass stars\n",
    "apass_index_for_color, d2d, d3d = apycoord.match_coordinates_sky(aij_coordinates, apass_coordinates_for_color)\n",
    "good_match_for_color = d2d < 5*u.arcsecond\n",
    "#Issue 7/22/2016 the number of matches are very few but the image\n",
    "#overlay in the cells above shows many pretty good looking matches.\n",
    "#is there a problem with the coordinate comparisons? - SOLVED"
   ]
  },
  {
   "cell_type": "markdown",
   "metadata": {},
   "source": [
    "# APASS Filter Corrections\n",
    "## Transform the APASS r magnitudes into R magnitudes using APASS r and i magnitudes\n",
    "\n",
    "The equation used is R-feder - r-apass = A*c**3 + B*c**2 + C*c + D\n",
    "\n",
    "Where..."
   ]
  },
  {
   "cell_type": "code",
   "execution_count": null,
   "metadata": {
    "collapsed": true
   },
   "outputs": [],
   "source": [
    "#Transform the apass magnitudes into the R filter we use\n",
    "apass_R_mags = filter_transform(apass_in_bright, 'R', g='g_mag', r='r_mag', i='i_mag', transform='ivezic')"
   ]
  },
  {
   "cell_type": "code",
   "execution_count": null,
   "metadata": {
    "collapsed": true
   },
   "outputs": [],
   "source": [
    "# old_apass_R_mags = apass_R_mags"
   ]
  },
  {
   "cell_type": "markdown",
   "metadata": {
    "collapsed": true
   },
   "source": [
    "## Color Corrections Using astropy fit"
   ]
  },
  {
   "cell_type": "code",
   "execution_count": null,
   "metadata": {
    "scrolled": true
   },
   "outputs": [],
   "source": [
    "%%time\n",
    "corrections, BminusV, Rminusr = color_corrections(aij_stars, aij_mags,apass_index, apass_color, apass_R_mags, good_match)"
   ]
  },
  {
   "cell_type": "code",
   "execution_count": null,
   "metadata": {},
   "outputs": [],
   "source": [
    "foo2 = np.array(corrections)"
   ]
  },
  {
   "cell_type": "code",
   "execution_count": null,
   "metadata": {
    "scrolled": true
   },
   "outputs": [],
   "source": [
    "plt.figure(figsize=(15, 5))\n",
    "#This just plots the slope of the linear fit for all images\n",
    "plt.plot(foo2[:, 0], '.')\n",
    "plt.xlabel('Image number')\n",
    "plt.ylabel('$\\\\alpha$ (color term)')\n",
    "plt.grid()\n",
    "#for image in range(aij_mags.shape[1]):\n",
    "    #plt.xlim(0,100)\n",
    "    #plt.scatter(image, corrections[image][0])"
   ]
  },
  {
   "cell_type": "code",
   "execution_count": null,
   "metadata": {},
   "outputs": [],
   "source": [
    "plt.figure(figsize=(15, 5))\n",
    "plt.plot(foo2[:, 1], '.')\n",
    "plt.xlabel('Image number')\n",
    "plt.ylabel('$\\\\gamma$ (zero point)')\n",
    "plt.grid()"
   ]
  },
  {
   "cell_type": "markdown",
   "metadata": {},
   "source": [
    "• Source Radius: radius of the aperture used to calculate\n",
    "net integrated counts. In fixed aperture mode, this value\n",
    "is the aperture radius set by the user. In variable aperture\n",
    "mode, this value represents the actual aperture radius\n",
    "calculated as the product of the average FWHM in\n",
    "the image and the multiplicative factor set in the MultiAperture\n",
    "Measurements set up panel.\n",
    "\n",
    "• FWHM mult: in variable aperture mode, this value is\n",
    "the FWHM multiplier set in the Multi-Aperture Measurements\n",
    "set up panel. In fixed aperture mode, this\n",
    "column is not included in the table.\n",
    "\n",
    "• Source Rad(base): in variable aperture mode, this\n",
    "value represents the fixed aperture radius set by the user\n",
    "and should be set to a number greater than 1.5 times the\n",
    "maximum FWHM expected to ensure proper measurement\n",
    "of FWHM. In fixed aperture mode, this column is\n",
    "not included in the table.\n",
    "\n",
    "• Sky Rad(min): radius of the inner edge of the annulus\n",
    "used to calculate the sky background\n",
    "\n",
    "• Sky Rad(max): radius of the outer edge of the annulus\n",
    "used to calculate the sky background"
   ]
  },
  {
   "cell_type": "code",
   "execution_count": null,
   "metadata": {},
   "outputs": [],
   "source": [
    "#Calculate the error in the magnitudes to be used in the apass calibration\n",
    "#define the gain of the ccd\n",
    "gain = 1.5\n",
    "#define the read noise of the ccd\n",
    "read_noise = 30.0\n",
    "\n",
    "\n",
    "npix = np.pi * 15**2  # pixel^2, estimated aperture size\n",
    "n_sky = 50.0   # counts/pixel, estimated upper limit\n",
    "\n",
    "mag_err = mag_error(aij_raw, gain, read_noise, sources)"
   ]
  },
  {
   "cell_type": "code",
   "execution_count": null,
   "metadata": {
    "collapsed": true
   },
   "outputs": [],
   "source": [
    "%%time\n",
    "corrected_curves = corrected_curveses(aij_mags, aij_stars, all_apass_color, all_apass_color_error, apass_index_for_color, BminusV, corrections)\n",
    "\n",
    "#Plot the corrected light curve of star index 0\n",
    "plt.plot(corrected_curves[5])    #looks kinda screwed up... shouldn't they meet into eachother smoothly with the \n",
    "                                 #apass corrections. They are on different nights and all but still...?"
   ]
  },
  {
   "cell_type": "code",
   "execution_count": null,
   "metadata": {},
   "outputs": [],
   "source": [
    "# old_corrected_curves = corrected_curves.copy()\n",
    "corrected_curves.shape"
   ]
  },
  {
   "cell_type": "markdown",
   "metadata": {},
   "source": [
    "## Next cell Loops over corrected curves and throws out stars not in frame"
   ]
  },
  {
   "cell_type": "code",
   "execution_count": null,
   "metadata": {
    "scrolled": true
   },
   "outputs": [],
   "source": [
    "ct = 0\n",
    "for row in aij_raw:\n",
    "    r_time = Time(row['JD_UTC'], format = 'jd', out_subfmt='date', scale='utc')\n",
    "    r_time.format = 'iso'\n",
    "    filename = row['Label']\n",
    "    datename = str(r_time) + '/' + str(filename)\n",
    "    ins = in_frame(wcsdict[datename], aij_coordinates, padding = 100)\n",
    "    corrected_curves[~ins, ct] = np.nan\n",
    "    #for star_num in range(0,111):\n",
    "    #    if in_frame(wcsdict[datename], aij_coordinates[star_num], padding = 100) == False: \n",
    "    #        corrected_curves[star_num][ct] = np.nan\n",
    "    ct += 1\n",
    "   #  print(ct)"
   ]
  },
  {
   "cell_type": "code",
   "execution_count": null,
   "metadata": {
    "collapsed": true,
    "scrolled": true
   },
   "outputs": [],
   "source": [
    "#create an array of the dates each image was taken at (JD rounded to day)\n",
    "night = np.array(np.floor(np.array(aij_stars[0].mjd_start + 0.5)) -1)\n",
    "#find the unique nights in the array of nights\n",
    "unique_nights = np.unique(night)\n",
    "#take out one of the nights if you want\n",
    "unique_nights = set(unique_nights)# - set([57249.0])\n",
    "#sort the list of nights obviously\n",
    "unique_nights = sorted(unique_nights)\n",
    "#find the number of nights to be used for plotting\n",
    "number_of_nights = len(unique_nights)\n",
    "\n",
    "night_stdev = [[] for night_n in range(number_of_nights)]\n",
    "for index, star in enumerate(aij_stars):\n",
    "    \n",
    "    #loop over all of the nights and their index in unique nights\n",
    "    for i, this_night in enumerate(unique_nights):\n",
    "        #create a night mask that is a boolean in the shape of night\n",
    "        night_mask = (night == this_night)\n",
    "        stdev = np.std(corrected_curves[index][night_mask])\n",
    "        night_stdev[i].append(stdev)\n",
    "\n",
    "comp_stars = []\n",
    "\n",
    "for index, stdevs in enumerate(night_stdev):\n",
    "    good_comps = list(np.argpartition(np.array(stdevs),5)[2:7])\n",
    "    comp_stars.append(good_comps)"
   ]
  },
  {
   "cell_type": "markdown",
   "metadata": {},
   "source": [
    "## Functions for making single magnitude plot\n",
    "### This section is taken from the multi-night photometry notebook from a kelt-1 notebook."
   ]
  },
  {
   "cell_type": "code",
   "execution_count": null,
   "metadata": {
    "collapsed": true
   },
   "outputs": [],
   "source": [
    "#define array for the comparison magnitudes\n",
    "corrected_counts = 10**(-(corrected_curves-2.5*np.log10(aij_raw['EXPOSURE']))/2.5)\n",
    "comp_counts = []\n",
    "\n",
    "for i, this_night in enumerate(unique_nights):\n",
    "        #create a night mask that is a boolean in the shape of night\n",
    "        night_mask = (night == this_night)\n",
    "        comp = np.zeros(sum(night_mask))\n",
    "        for star in comp_stars[i]:\n",
    "            if star not in (4, 12, 17):\n",
    "                comp += corrected_counts[star][night_mask]\n",
    "        comp_counts += list(comp)\n",
    "comp_counts = np.array(comp_counts)\n",
    "\n",
    "#calculate the differential magnitudes by simply taking the difference between the corrected curves and the comparison magnitudes\"\"\"\n",
    "diff_corrected = -2.5*np.log10(corrected_counts/comp_counts)"
   ]
  },
  {
   "cell_type": "code",
   "execution_count": null,
   "metadata": {
    "collapsed": true
   },
   "outputs": [],
   "source": [
    "plt.subplot(2,2,1)\n",
    "#Plot the instrumental magnitudes\n",
    "plt.plot(aij_mags[10][0:143])\n",
    "plt.title('Instrumental')\n",
    "\n",
    "plt.subplot(2,2,2)\n",
    "#plot the apass corrected curves\n",
    "plt.plot(corrected_curves[10][0:143])\n",
    "plt.title('Corrected')\n",
    "\n",
    "plt.subplot(2,2,3)\n",
    "#plot the comparison stars curve\n",
    "plt.plot(-2.5*np.log10(comp_counts[0:143]))\n",
    "plt.title('comparison')\n",
    "\n",
    "plt.subplot(2,2,4)\n",
    "#plot the difference between the apass star and the comparison star.\n",
    "plt.plot(diff_corrected[10][0:143])\n",
    "plt.title('Differential')\n",
    "plt.show()\n",
    "for count in range(30):\n",
    "    plt.plot(diff_corrected[count])\n",
    "    plt.show()"
   ]
  },
  {
   "cell_type": "code",
   "execution_count": null,
   "metadata": {
    "collapsed": true
   },
   "outputs": [],
   "source": [
    "corrected_curves"
   ]
  },
  {
   "cell_type": "code",
   "execution_count": null,
   "metadata": {
    "scrolled": true
   },
   "outputs": [],
   "source": [
    "#print the first point in the first star of the corrected curves as a check for an external check that was done\n",
    "print(corrected_curves[0][0])"
   ]
  },
  {
   "cell_type": "code",
   "execution_count": null,
   "metadata": {
    "scrolled": false
   },
   "outputs": [],
   "source": [
    "# loop over all of the stars and their index\n",
    "max_powers = []\n",
    "for index, star in enumerate(aij_stars):\n",
    "    if (index + 1) == 35:\n",
    "        max_powers.append(np.nan)\n",
    "        continue\n",
    "    #start a figure...\n",
    "    plt.figure(figsize=(5*number_of_nights, 5))\n",
    "    \n",
    "    #define a list for night means\n",
    "    night_means = []\n",
    "    #define a list for night standard deviations\n",
    "    night_stds = []\n",
    "    #define a list for night bins? I suppose\n",
    "    night_bins = []\n",
    "    #get the color of the star\n",
    "    BminusV = all_apass_color[apass_index_for_color[index]]\n",
    "    #loop over all of the nights and their index in unique nights\n",
    "    for i, this_night in enumerate(unique_nights):\n",
    "        plt.subplot(1, number_of_nights + 4, i + 1)\n",
    "        #create a night mask that is a boolean in the shape of night\n",
    "        night_mask = (night == this_night)\n",
    "        #get the night mean and std from the plot magnitudes function and plot the magnitudes\n",
    "        night_mean, night_std = plot_magnitudes(mags=corrected_curves[index, night_mask], \n",
    "                                                times=aij_raw['BJD_TDB'][night_mask], source = index+1,\n",
    "                                                night = this_night, color = BminusV)\n",
    "        \n",
    "        night_means.append(night_mean)\n",
    "        night_stds.append(night_std)\n",
    "        night_bins.append(this_night)\n",
    "        \n",
    "    \"\"\", errors = corrected_curves_er[index][night_mask]\"\"\"\n",
    "\n",
    "    ################# EVERYTHING BELOW THIS POINT PLOTS THE LAST PLOT ################################################\n",
    "    plt.subplot(1, number_of_nights + 4, number_of_nights + 1)\n",
    "    # Plot variation over nights.\n",
    "    night_means = np.array(night_means)\n",
    "    plt.errorbar(night_bins, night_means, yerr=night_stds, fmt='o')\n",
    "    variation = night_means.max() - night_means.min()\n",
    "    size = 10000*variation\n",
    "    y_lims = plt.ylim()\n",
    "    y_range = plt.ylim()[1] - plt.ylim()[0]\n",
    "    plt.scatter([0.8*(plt.xlim()[1]-plt.xlim()[0]) + plt.xlim()[0]], \n",
    "                [0.8*(y_range) + plt.ylim()[0]], \n",
    "                c='green', marker='o', s=size)\n",
    "    \n",
    "    # Plot bar proportional to Lomb-Scargle power.\n",
    "    bad_mags = np.isnan(corrected_curves[index, :]) | np.isinf(corrected_curves[index, :])\n",
    "    #bad_errs = np.isnan(mag_err[index])\n",
    "    bads = bad_mags #| bad_errs\n",
    "    good_mags = ~bads\n",
    "    model = LombScargleFast().fit(aij_raw['BJD_TDB'][good_mags], \n",
    "                                  corrected_curves[index, good_mags])\n",
    "    #model = LombScargle(Nterms=1)\n",
    "    #model.fit(aij_raw['BJD_TDB'][good_mags], \n",
    "    #                              corrected_curves[index][good_mags])\n",
    "    periods, power = model.periodogram_auto(nyquist_factor=100, oversampling=20)\n",
    "    max_pow = power.max()\n",
    "    max_powers.append(max_pow)\n",
    "    print(index + 1, max_pow)\n",
    "    if max_pow > 0.5:\n",
    "        color = 'green'\n",
    "    elif max_pow > 0.4:\n",
    "        color = 'cyan'\n",
    "    else:\n",
    "        color = 'gray'\n",
    "    \n",
    "    bar_x = (night_bins[-2] + night_bins[-1])/2\n",
    "    \n",
    "    plt.plot([bar_x, bar_x], [plt.ylim()[0], max_pow * y_range + plt.ylim()[0]], \n",
    "             color=color, linewidth=10)\n",
    "    plt.ylim(*y_lims)\n",
    "    \n",
    "    ################################ Phase Plots ###################################################\n",
    "    # ref_time is the Julian date of Jan. 1st, 2011\n",
    "    ref_time = 2455562.5\n",
    "    times = aij_raw['BJD_TDB']\n",
    "    mags = corrected_curves[index, :]\n",
    "\n",
    "    phase_times = []\n",
    "    \n",
    "    model.optimizer.period_range = (0.01, 10.0)\n",
    "    \n",
    "    #Phase plots using Find_Best_Periods\n",
    "    periods_best = model.find_best_periods(n_periods = 2, return_scores = False)\n",
    "    \n",
    "    #print(model.best_period)\n",
    "    #print(model.best_period*2)\n",
    "    print(periods_best)\n",
    "    phase_times = ((times - ref_time) % periods_best[0]) / periods_best[0]\n",
    "    #for i_time in times:\n",
    "    #    #new_time = (i_time - ref_time)%model.best_period\n",
    "    ##    new_time = (i_time - ref_time)%periods_best[0]\n",
    "    #    period_time = new_time/periods_best[0]\n",
    "    #    phase_times.append(period_time)\n",
    "        \n",
    "        \n",
    "        \n",
    "    plt.subplot(1,number_of_nights + 4, number_of_nights + 2)\n",
    "    plt.scatter(phase_times, mags)\n",
    "    plt.title('Best')\n",
    "    \n",
    "    '''\n",
    "    #Plot Twice the best period\n",
    "    phase_times_2 =[]\n",
    "    for i_time in times:\n",
    "        #new_time_2 = ((i_time - ref_time) / (2 * model.best_period)) - ((i_time - ref_time) // (2 * model.best_period))\n",
    "        #period_time_2 = new_time_2 / (2 * model.best_period)\n",
    "        #phase_times_2.append(new_time_2)\n",
    "        new_time_2 = (i_time - ref_time)%periods_best[1]\n",
    "        period_time_2 = new_time_2/periods_best[1]\n",
    "        phase_times_2.append(period_time_2)\n",
    "    \n",
    "    #Plot Lomb-Scargle plot\n",
    "    \n",
    "    '''\n",
    "    plt.subplot(1,number_of_nights + 4, number_of_nights + 3)\n",
    "    phase_times = ((times - ref_time) % (2 * periods_best[0])) / (2 *periods_best[0])\n",
    "    plt.scatter(phase_times, mags)\n",
    "    plt.title('2x Best')\n",
    "    phase_times = ((times - ref_time) % periods_best[1]) / periods_best[1]\n",
    "    plt.subplot(1,number_of_nights + 4, number_of_nights + 4)\n",
    "    plt.scatter(phase_times, mags)\n",
    "    plt.title('Second best')\n",
    "\n",
    "    \"\"\"\n",
    "    #plt.scatter(phase_times_2, mags)\n",
    "    ct = 0\n",
    "    for i_pow in power:\n",
    "        if i_pow == max_pow:\n",
    "            print(periods[ct])\n",
    "        ct += 1\n",
    "    print(periods_best[0])\n",
    "    plt.scatter(periods,power)\n",
    "    plt.xlim(0,10)\n",
    "    \"\"\"\n",
    "    plt.show()"
   ]
  },
  {
   "cell_type": "code",
   "execution_count": null,
   "metadata": {},
   "outputs": [],
   "source": [
    "phase_times = ((times - ref_time) % 0.04375)/0.04375\n",
    "plt.plot(phase_times, corrected_curves[91, :], '.')\n",
    "plt.ylim(14.8, 14.4)"
   ]
  },
  {
   "cell_type": "code",
   "execution_count": null,
   "metadata": {
    "collapsed": true
   },
   "outputs": [],
   "source": [
    "### from astropy.stats import LombScargle"
   ]
  },
  {
   "cell_type": "code",
   "execution_count": null,
   "metadata": {
    "collapsed": true
   },
   "outputs": [],
   "source": [
    "bad_mags = np.isnan(corrected_curves[9]) | np.isinf(corrected_curves[9])\n",
    "    #bad_errs = np.isnan(mag_err[index])\n",
    "bads = bad_mags #| bad_errs\n",
    "good_mags = ~bads\n",
    "foo = LombScargle(aij_raw['BJD_TDB'][good_mags] * u.day, corrected_curves[9][good_mags])"
   ]
  },
  {
   "cell_type": "code",
   "execution_count": null,
   "metadata": {
    "collapsed": true
   },
   "outputs": [],
   "source": [
    "f, p = foo.autopower(nyquist_factor=100, samples_per_peak=20, method='fast')"
   ]
  },
  {
   "cell_type": "code",
   "execution_count": null,
   "metadata": {},
   "outputs": [],
   "source": [
    "1/f.min(), 1/f.max()"
   ]
  },
  {
   "cell_type": "code",
   "execution_count": null,
   "metadata": {},
   "outputs": [],
   "source": [
    "f.unit"
   ]
  },
  {
   "cell_type": "code",
   "execution_count": null,
   "metadata": {},
   "outputs": [],
   "source": [
    "plt.figure(figsize=(15, 5))\n",
    "plt.plot(1/f, p)\n",
    "plt.xlim(0, 0.35)"
   ]
  },
  {
   "cell_type": "code",
   "execution_count": null,
   "metadata": {
    "collapsed": true
   },
   "outputs": [],
   "source": [
    "curves = Column(data=corrected_curves, name='mag')\n",
    "errs = [np.array(aij_stars[i].magnitude_error) for i in range(len(aij_stars))]\n",
    "error_colum = Column(data=errs, name='mag_err')\n",
    "powers = Column(data=max_powers, name='LS_power')\n",
    "ids = [np.array(aij_stars[i].id) for i in range(len(aij_stars))]\n",
    "id_col = Column(data=ids, name='ID')\n",
    "coord_col = Column(data=aij_coordinates, name='coords')\n",
    "ra_col = Column(data=aij_coordinates.ra.degree, name='RA')\n",
    "dec_col = Column(data=aij_coordinates.dec.degree, name='Dec')\n",
    "apass_name = [apass['recno'][idx] if match else '' for idx, match in zip(apass_index_for_color, good_match_for_color) ]\n",
    "apass_col = Column(data=apass_name, name='APASS ID')"
   ]
  },
  {
   "cell_type": "code",
   "execution_count": null,
   "metadata": {
    "collapsed": true
   },
   "outputs": [],
   "source": [
    "apass_col[~good_match_for_color]"
   ]
  },
  {
   "cell_type": "code",
   "execution_count": null,
   "metadata": {
    "collapsed": true
   },
   "outputs": [],
   "source": [
    "vsx"
   ]
  },
  {
   "cell_type": "code",
   "execution_count": null,
   "metadata": {
    "collapsed": true
   },
   "outputs": [],
   "source": [
    "\n",
    "vsx_c = apycoord.SkyCoord(ra=vsx['RAJ2000'], dec=vsx['DEJ2000'])\n",
    "all_vsx_index, d2d, d3d = apycoord.match_coordinates_sky(aij_coordinates, vsx_c)\n",
    "\n",
    "good = d2d <= 2*u.arcsec"
   ]
  },
  {
   "cell_type": "code",
   "execution_count": null,
   "metadata": {
    "collapsed": true
   },
   "outputs": [],
   "source": [
    "good.sum()"
   ]
  },
  {
   "cell_type": "code",
   "execution_count": null,
   "metadata": {
    "collapsed": true
   },
   "outputs": [],
   "source": [
    "vsx_names = [vsx['Name'][i] if match else '' for i, match in zip(all_vsx_index, good)]\n",
    "vsx_names = Column(data=vsx_names, name='VSX ID')\n",
    "\n",
    "vsx_period = [vsx['Period'][i] if match else 0 for i, match in zip(all_vsx_index, good)]\n",
    "vsx_period = Column(data=vsx_period, name='VSX Period')"
   ]
  },
  {
   "cell_type": "code",
   "execution_count": null,
   "metadata": {
    "collapsed": true
   },
   "outputs": [],
   "source": [
    "calib_table = Table([id_col, ra_col, dec_col, curves, error_colum, powers, apass_col, vsx_names, vsx_period])"
   ]
  },
  {
   "cell_type": "code",
   "execution_count": null,
   "metadata": {
    "collapsed": true
   },
   "outputs": [],
   "source": [
    "calib_table.write('tres_meas_4_table.fits')"
   ]
  },
  {
   "cell_type": "code",
   "execution_count": null,
   "metadata": {
    "collapsed": true
   },
   "outputs": [],
   "source": [
    "aijs = aij_stars[0]"
   ]
  },
  {
   "cell_type": "code",
   "execution_count": null,
   "metadata": {
    "collapsed": true
   },
   "outputs": [],
   "source": [
    "bjd_col = Column(data=aijs.bjd_tdb, name='BJD')\n",
    "tbjd = Table([bjd_col])\n",
    "tbjd.write('bjd.fits')"
   ]
  },
  {
   "cell_type": "code",
   "execution_count": null,
   "metadata": {
    "collapsed": true
   },
   "outputs": [],
   "source": [
    "aij_raw['BJD_TDB']"
   ]
  },
  {
   "cell_type": "code",
   "execution_count": null,
   "metadata": {
    "collapsed": true
   },
   "outputs": [],
   "source": [
    "#Plot Lomb Scargle\n",
    "for index, star in enumerate(aij_stars):\n",
    "    if (index + 1) == 35:\n",
    "        continue\n",
    "\n",
    "    # Plot bar proportional to Lomb-Scargle power.\n",
    "    bad_mags = np.isnan(corrected_curves[index]) | np.isinf(corrected_curves[index])\n",
    "    #bad_errs = np.isnan(mag_err[index])\n",
    "    bads = bad_mags #| bad_errs\n",
    "    good_mags = ~bads\n",
    "    model = LombScargleFast().fit(aij_raw['BJD_TDB'][good_mags], \n",
    "                                  corrected_curves[index][good_mags])\n",
    "    periods, power = model.periodogram_auto(nyquist_factor=100, oversampling=20)\n",
    "    max_pow = power.max()\n",
    "    \n",
    "    model.optimizer.period_range = (0.01, 5.0)\n",
    "    #Phase plots using Find_Best_Periods\n",
    "    periods_best = model.find_best_periods(n_periods = 2, return_scores = False)\n",
    "    \n",
    "    print(index + 1)\n",
    "    ct = 0\n",
    "    for i_pow in power:\n",
    "        if i_pow == max_pow:\n",
    "            print(periods[ct])\n",
    "        ct += 1\n",
    "    print(periods_best[0])\n",
    "    plt.plot(periods,power)\n",
    "    plt.xlim(0,5)\n",
    "    plt.show()"
   ]
  },
  {
   "cell_type": "code",
   "execution_count": null,
   "metadata": {
    "collapsed": true
   },
   "outputs": [],
   "source": [
    "from astropy.table import Table, Column\n",
    "t = Table(rows = corrected_curves)\n",
    "cols = [Column(curve, name=str(idx+1)) for idx, curve in enumerate(corrected_curves)]\n",
    "t_with_date = Table(cols)\n",
    "date = aij_raw['BJD_TDB']\n",
    "t_with_date.add_column(date)\n",
    "t_with_date.write('updated_measurements_4.csv', format = 'csv')\n",
    "print(t_with_date)\n",
    "#print(comp_stars[0])"
   ]
  },
  {
   "cell_type": "code",
   "execution_count": null,
   "metadata": {
    "collapsed": true,
    "scrolled": true
   },
   "outputs": [],
   "source": [
    "%matplotlib inline\n",
    "#loop over all of the stars and their index\n",
    "for index, star in enumerate(aij_stars):\n",
    "    #start a figure...\n",
    "    plt.figure(figsize=(5*number_of_nights, 5))\n",
    "    \n",
    "    #define a list for night means\n",
    "    night_means = []\n",
    "    #define a list for night standard deviations\n",
    "    night_stds = []\n",
    "    #define a list for night bins? I suppose\n",
    "    night_bins = []\n",
    "    #get the color of the star\n",
    "    BminusV = all_apass_color[apass_index_for_color[index]]\n",
    "    #loop over all of the nights and their index in unique nights\n",
    "    for i, this_night in enumerate(unique_nights):\n",
    "        plt.subplot(1, number_of_nights + 1, i + 1)\n",
    "        #create a night mask that is a boolean in the shape of night\n",
    "        night_mask = (night == this_night)\n",
    "        #get the night mean and std from the plot magnitudes function and plot the magnitudes\n",
    "        night_mean, night_std = plot_magnitudes(mags=diff_corrected[index][night_mask], \n",
    "                                                times=aij_raw['BJD_TDB'][night_mask], source = index+1,\n",
    "                                               night = this_night, color = BminusV)\n",
    "\"\"\", errors = corrected_curves_er[index][night_mask]\"\"\""
   ]
  },
  {
   "cell_type": "code",
   "execution_count": null,
   "metadata": {
    "collapsed": true
   },
   "outputs": [],
   "source": [
    "apass_r_mags = apass_in_bright['r_mag']\n",
    "apass_R_mags = filter_transform(apass_in_bright, 'R', r='r_mag', i='i_mag')\n",
    "apass_bv = apass_in_bright['B-V']\n",
    "aij_R = \n",
    "apassr_i = apass_in_bright['r_mag'] - apass_in_bright['i_mag']\n",
    "apassR_r = apass_R_mags - apass_r_mags \n",
    "\n",
    "plt.plot(apass_bv, apassR_r, 'o')\n",
    "#plt.plot(apassr_i, apassR_r, '-')"
   ]
  },
  {
   "cell_type": "code",
   "execution_count": null,
   "metadata": {
    "collapsed": true
   },
   "outputs": [],
   "source": [
    "A = -0.0107\n",
    "B = 0.0050\n",
    "C = -0.2689\n",
    "D = -0.1540\n",
    "c = np.arange(-0.30,-0.16,50)\n",
    "R_mag = (A * (c**3)) + (B * (c**2)) + (C * c) + D + apass_r_mags\n",
    "plt.plot()"
   ]
  },
  {
   "cell_type": "code",
   "execution_count": null,
   "metadata": {
    "collapsed": true
   },
   "outputs": [],
   "source": [
    "from scipy import optimize\n",
    "#Huber Loss Function test from 'Statistics, Data Mining, and Machine Learning in Astronomy' (Ivezic et al. 2014)\n",
    "y = np.array(testRminusr)\n",
    "x = np.array(testBminusV)\n",
    "dy = np.zeros(14)+0.01\n",
    "print(len(x), len(y), len(dy))\n",
    "\n",
    "# Define the standard squared-loss function\n",
    "def squared_loss(m, b, x, y, dy):\n",
    "    y_fit = m * x + b\n",
    "    return np.sum(((y - y_fit) / dy) ** 2, -1)\n",
    "\n",
    "\n",
    "# Define the log-likelihood via the Huber loss function\n",
    "def huber_loss(m, b, x, y, dy, c=2):\n",
    "    y_fit = m * x + b\n",
    "    t = abs((y - y_fit) / dy)\n",
    "    flag = t > c\n",
    "    return np.sum((~flag) * (0.5 * t ** 2) - (flag) * c * (0.5 * c - t), -1)\n",
    "\n",
    "f_squared = lambda beta: squared_loss(beta[0], beta[1], x=x, y=y, dy=dy)\n",
    "f_huber = lambda beta: huber_loss(beta[0], beta[1], x=x, y=y, dy=dy, c=1)\n",
    "\n",
    "#------------------------------------------------------------\n",
    "# compute the maximum likelihood using the huber loss\n",
    "beta0 = (2, 30)\n",
    "beta_squared = optimize.fmin(f_squared, beta0)\n",
    "beta_huber = optimize.fmin(f_huber, beta0)\n",
    "\n",
    "print(beta_squared)\n",
    "print(beta_huber)\n",
    "fig = plt.figure(figsize=(5, 5))\n",
    "ax = fig.add_subplot(111)\n",
    "\n",
    "x_fit = np.linspace(0, 20, 10)\n",
    "ax.plot(x_fit, beta_squared[0] * x_fit + beta_squared[1], '--k',\n",
    "        label=\"squared loss:\\n $y=%.2fx + %.1f$\" % tuple(beta_squared))\n",
    "ax.plot(x_fit, beta_huber[0] * x_fit + beta_huber[1], '-k',\n",
    "        label=\"Huber loss:\\n $y=%.2fx + %.1f$\" % tuple(beta_huber))\n",
    "ax.legend(loc=4)\n",
    "\n",
    "ax.errorbar(x, y, dy, fmt='.k', lw=1, ecolor='gray')\n",
    "\n",
    "#ax.set_xlim(0, 350)\n",
    "#ax.set_ylim(100, 700)\n",
    "ax.set_xlabel('$x$')\n",
    "ax.set_ylabel('$y$')\n",
    "\n",
    "plt.show()"
   ]
  },
  {
   "cell_type": "code",
   "execution_count": null,
   "metadata": {
    "collapsed": true
   },
   "outputs": [],
   "source": [
    "arf = aij_stars[0]"
   ]
  },
  {
   "cell_type": "code",
   "execution_count": null,
   "metadata": {},
   "outputs": [],
   "source": [
    "arf._table.colnames"
   ]
  },
  {
   "cell_type": "code",
   "execution_count": null,
   "metadata": {
    "collapsed": true
   },
   "outputs": [],
   "source": []
  }
 ],
 "metadata": {
  "kernelspec": {
   "display_name": "Python 3",
   "language": "python",
   "name": "python3"
  },
  "language_info": {
   "codemirror_mode": {
    "name": "ipython",
    "version": 3
   },
   "file_extension": ".py",
   "mimetype": "text/x-python",
   "name": "python",
   "nbconvert_exporter": "python",
   "pygments_lexer": "ipython3",
   "version": "3.6.3"
  }
 },
 "nbformat": 4,
 "nbformat_minor": 1
}
